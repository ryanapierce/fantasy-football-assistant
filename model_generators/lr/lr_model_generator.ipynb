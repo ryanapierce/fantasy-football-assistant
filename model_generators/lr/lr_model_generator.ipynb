{
 "cells": [
  {
   "cell_type": "code",
   "execution_count": 1,
   "id": "b8a4f07c",
   "metadata": {},
   "outputs": [],
   "source": [
    "from sklearn.linear_model import LinearRegression \n",
    "from sklearn.metrics import mean_absolute_error, root_mean_squared_error, r2_score\n",
    "\n",
    "import pandas as pd\n",
    "import numpy as np\n",
    "\n",
    "import pickle\n",
    "import json\n",
    "import os\n",
    "import warnings\n",
    "import datetime"
   ]
  },
  {
   "cell_type": "code",
   "execution_count": 2,
   "id": "73e3ccb7",
   "metadata": {},
   "outputs": [],
   "source": [
    "# Instantiate a dataframe on first dataset to get columns\n",
    "nfl_df = pd.read_csv('../../dataset_generators/datasets/0_train_normalized.csv')\n",
    "# Get normalized columns\n",
    "y = ['fantasy_points']\n",
    "X = [col for col in nfl_df.columns if col not in ('player_id'\n",
    "                                                        , 'player_name'\n",
    "                                                        , 'player_display_name'\n",
    "                                                        , 'position','position_group'\n",
    "                                                        , 'headshot_url'\n",
    "                                                        , 'season'\n",
    "                                                        , 'week'\n",
    "                                                        , 'season_type'\n",
    "                                                        , 'team'\n",
    "                                                        , 'opponent_team'\n",
    "                                                        , 'fantasy_points'\n",
    "                                                        , 'Unnamed: 0')]\n",
    "del nfl_df"
   ]
  },
  {
   "cell_type": "code",
   "execution_count": 3,
   "id": "15978d9f",
   "metadata": {},
   "outputs": [],
   "source": [
    "# Instantiate a dataframe on first dataset to get columns\n",
    "nfl_df = pd.read_csv('../../dataset_generators/datasets/0_train_pca.csv')\n",
    "# Get pca columns\n",
    "y_pca = ['fantasy_points']\n",
    "X_pca = [col for col in nfl_df.columns if col not in ('player_id'\n",
    "                                                        , 'player_name'\n",
    "                                                        , 'player_display_name'\n",
    "                                                        , 'position','position_group'\n",
    "                                                        , 'headshot_url'\n",
    "                                                        , 'season'\n",
    "                                                        , 'week'\n",
    "                                                        , 'season_type'\n",
    "                                                        , 'team'\n",
    "                                                        , 'opponent_team'\n",
    "                                                        , 'fantasy_points'\n",
    "                                                        , 'Unnamed: 0')]\n",
    "del nfl_df"
   ]
  },
  {
   "cell_type": "code",
   "execution_count": 8,
   "id": "fa350dc4",
   "metadata": {},
   "outputs": [],
   "source": [
    "# Fit linear regression on the 5 fold datasets and evaluate metrics \n",
    "norm_lr_metrics = {'mae':[],'rmse':[],'r2':[]}\n",
    "for n in range(5):\n",
    "    train_dataset_path = f'../../dataset_generators/datasets/{n}_train_normalized.csv'\n",
    "    train_df = pd.read_csv(train_dataset_path)\n",
    "    test_dataset_path = f'../../dataset_generators/datasets/{n}_test_normalized.csv'\n",
    "    test_df = pd.read_csv(test_dataset_path)\n",
    "    \n",
    "    X_train = train_df[X]\n",
    "    y_train = train_df[y]\n",
    "    X_test = test_df[X]\n",
    "    y_test = test_df[y]\n",
    "    \n",
    "    lr = LinearRegression()\n",
    "    lr.fit(X_train, y_train)\n",
    "    \n",
    "    y_pred = lr.predict(X_test)\n",
    "    \n",
    "    norm_lr_metrics['mae'].append(mean_absolute_error(y_test, y_pred))\n",
    "    norm_lr_metrics['rmse'].append(root_mean_squared_error(y_test, y_pred))\n",
    "    norm_lr_metrics['r2'].append(r2_score(y_test, y_pred))\n",
    "\n",
    "norm_lr_metrics['mae_avg'] = np.mean(np.array(norm_lr_metrics['mae']))\n",
    "norm_lr_metrics['rmse_avg'] = np.mean(np.array(norm_lr_metrics['rmse']))\n",
    "norm_lr_metrics['r2_avg'] = np.mean(np.array(norm_lr_metrics['r2']))\n",
    "\n",
    "norm_lr_metrics['mae_std'] = np.std(np.array(norm_lr_metrics['mae']))\n",
    "norm_lr_metrics['rmse_std'] = np.std(np.array(norm_lr_metrics['rmse']))\n",
    "norm_lr_metrics['r2_std'] = np.std(np.array(norm_lr_metrics['r2']))"
   ]
  },
  {
   "cell_type": "code",
   "execution_count": 9,
   "id": "e610662e",
   "metadata": {},
   "outputs": [],
   "source": [
    "# Fit linear regression on the 5 fold datasets and evaluate metrics \n",
    "pca_lr_metrics = {'mae':[],'rmse':[],'r2':[]}\n",
    "for n in range(5):\n",
    "    train_dataset_path = f'../../dataset_generators/datasets/{n}_train_pca.csv'\n",
    "    train_df = pd.read_csv(train_dataset_path)\n",
    "    test_dataset_path = f'../../dataset_generators/datasets/{n}_test_pca.csv'\n",
    "    test_df = pd.read_csv(test_dataset_path)\n",
    "    \n",
    "    X_train = train_df[X_pca]\n",
    "    y_train = train_df[y_pca]\n",
    "    X_test = test_df[X_pca]\n",
    "    y_test = test_df[y_pca]\n",
    "    \n",
    "    lr = LinearRegression()\n",
    "    lr.fit(X_train, y_train)\n",
    "    \n",
    "    y_pred = lr.predict(X_test)\n",
    "    \n",
    "    pca_lr_metrics['mae'].append(mean_absolute_error(y_test, y_pred))\n",
    "    pca_lr_metrics['rmse'].append(root_mean_squared_error(y_test, y_pred))\n",
    "    pca_lr_metrics['r2'].append(r2_score(y_test, y_pred))\n",
    "\n",
    "pca_lr_metrics['mae_avg'] = np.mean(np.array(pca_lr_metrics['mae']))\n",
    "pca_lr_metrics['rmse_avg'] = np.mean(np.array(pca_lr_metrics['rmse']))\n",
    "pca_lr_metrics['r2_avg'] = np.mean(np.array(pca_lr_metrics['r2']))\n",
    "\n",
    "pca_lr_metrics['mae_std'] = np.std(np.array(pca_lr_metrics['mae']))\n",
    "pca_lr_metrics['rmse_std'] = np.std(np.array(pca_lr_metrics['rmse']))\n",
    "pca_lr_metrics['r2_std'] = np.std(np.array(pca_lr_metrics['r2']))"
   ]
  },
  {
   "cell_type": "code",
   "execution_count": 10,
   "id": "99bbdff7",
   "metadata": {},
   "outputs": [
    {
     "name": "stdout",
     "output_type": "stream",
     "text": [
      "---NORMALIZED---\n",
      "MAE: 3.873030699741642\n",
      "RMSE: 5.380693337715541\n",
      "R2: 0.40562443155245537\n",
      "MAE std: 0.044284356922445714\n",
      "RMSE std: 0.05843496151983345\n",
      "R2 std: 0.00245723017181231\n",
      "---PCA---\n",
      "MAE: 3.905568402700351\n",
      "RMSE: 5.413844157568112\n",
      "R2: 0.39827150182828175\n",
      "MAE std: 0.044321118957483994\n",
      "RMSE std: 0.0569814476010699\n",
      "R2 std: 0.002940295654117378\n"
     ]
    }
   ],
   "source": [
    "# Compare the 2 models\n",
    "print(f\"---NORMALIZED---\\nMAE: {norm_lr_metrics['mae_avg']}\\nRMSE: {norm_lr_metrics['rmse_avg']}\\nR2: {norm_lr_metrics['r2_avg']}\")\n",
    "print(f\"MAE std: {norm_lr_metrics['mae_std']}\\nRMSE std: {norm_lr_metrics['rmse_std']}\\nR2 std: {norm_lr_metrics['r2_std']}\")\n",
    "\n",
    "print(f\"---PCA---\\nMAE: {pca_lr_metrics['mae_avg']}\\nRMSE: {pca_lr_metrics['rmse_avg']}\\nR2: {pca_lr_metrics['r2_avg']}\")\n",
    "print(f\"MAE std: {pca_lr_metrics['mae_std']}\\nRMSE std: {pca_lr_metrics['rmse_std']}\\nR2 std: {pca_lr_metrics['r2_std']}\")\n"
   ]
  },
  {
   "cell_type": "code",
   "execution_count": 7,
   "id": "65e62ff4",
   "metadata": {},
   "outputs": [],
   "source": [
    "# It looks like normalized is slightly better than PCA, but overall it is negligable."
   ]
  }
 ],
 "metadata": {
  "kernelspec": {
   "display_name": "Python 3 (ipykernel)",
   "language": "python",
   "name": "python3"
  },
  "language_info": {
   "codemirror_mode": {
    "name": "ipython",
    "version": 3
   },
   "file_extension": ".py",
   "mimetype": "text/x-python",
   "name": "python",
   "nbconvert_exporter": "python",
   "pygments_lexer": "ipython3",
   "version": "3.10.9"
  }
 },
 "nbformat": 4,
 "nbformat_minor": 5
}
