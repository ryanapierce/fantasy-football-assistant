{
 "cells": [
  {
   "cell_type": "code",
   "execution_count": 2,
   "id": "3870b72e",
   "metadata": {},
   "outputs": [],
   "source": [
    "import pandas as pd\n",
    "import numpy as np\n",
    "from sklearn.linear_model import LinearRegression\n",
    "from sklearn.model_selection import train_test_split\n",
    "from sklearn.preprocessing import StandardScaler\n",
    "from sklearn.metrics import mean_squared_error\n",
    "import matplotlib.pyplot as plt"
   ]
  },
  {
   "cell_type": "code",
   "execution_count": 3,
   "id": "4b7b847c",
   "metadata": {},
   "outputs": [],
   "source": [
    "data = pd.read_csv(\"../final_1_lag_ffa_dataset.csv\")\n"
   ]
  },
  {
   "cell_type": "code",
   "execution_count": 4,
   "id": "f7d9dc75",
   "metadata": {},
   "outputs": [
    {
     "name": "stdout",
     "output_type": "stream",
     "text": [
      "   fantasy_points\n",
      "0             0.0\n",
      "1             0.0\n",
      "2             0.0\n",
      "3             0.0\n",
      "4             0.0\n"
     ]
    }
   ],
   "source": [
    "# Calculate fantasy points using STANDARD scoring\n",
    "scoring = {\n",
    "    \"passing_yards\": 1/25,\n",
    "    \"passing_tds\": 4.0,\n",
    "    \"passing_interceptions\": -2.0,\n",
    "    \"passing_2pt_conversions\": 2.0,\n",
    "    \"sack_yards_lost\": 0.0,\n",
    "    \"sack_fumbles_lost\": -2.0,\n",
    "    \"rushing_yards\": 1/10,\n",
    "    \"rushing_tds\": 6.0,\n",
    "    \"rushing_fumbles_lost\": -2.0,\n",
    "    \"rushing_2pt_conversions\": 2.0,\n",
    "    \"receiving_yards\": 1/10,\n",
    "    \"receiving_tds\": 6.0,\n",
    "    \"receiving_fumbles_lost\": -2.0,\n",
    "    \"receiving_2pt_conversions\": 2.0,\n",
    "    \"misc_yards\": 0.0,\n",
    "}\n",
    "\n",
    "def compute_fantasy_points(df, scoring):\n",
    "    pts = (\n",
    "        df.get(\"passing_yards\", 0) * scoring[\"passing_yards\"] +\n",
    "        df.get(\"passing_tds\", 0) * scoring[\"passing_tds\"] +\n",
    "        df.get(\"passing_interceptions\", 0) * scoring[\"passing_interceptions\"] +\n",
    "        df.get(\"passing_2pt_conversions\", 0) * scoring[\"passing_2pt_conversions\"] +\n",
    "        df.get(\"sack_yards_lost\", 0) * scoring[\"sack_yards_lost\"] +\n",
    "        df.get(\"sack_fumbles_lost\", 0) * scoring[\"sack_fumbles_lost\"] +\n",
    "        df.get(\"rushing_yards\", 0) * scoring[\"rushing_yards\"] +\n",
    "        df.get(\"rushing_tds\", 0) * scoring[\"rushing_tds\"] +\n",
    "        df.get(\"rushing_fumbles_lost\", 0) * scoring[\"rushing_fumbles_lost\"] +\n",
    "        df.get(\"rushing_2pt_conversions\", 0) * scoring[\"rushing_2pt_conversions\"] +\n",
    "        df.get(\"receiving_yards\", 0) * scoring[\"receiving_yards\"] +\n",
    "        df.get(\"receiving_tds\", 0) * scoring[\"receiving_tds\"] +\n",
    "        df.get(\"receiving_fumbles_lost\", 0) * scoring[\"receiving_fumbles_lost\"] +\n",
    "        df.get(\"receiving_2pt_conversions\", 0) * scoring[\"receiving_2pt_conversions\"] +\n",
    "        df.get(\"misc_yards\", 0) * scoring[\"misc_yards\"]\n",
    "    )\n",
    "    return pts\n",
    "\n",
    "# Add fantasy_points column to your DataFrame\n",
    "data[\"fantasy_points\"] = compute_fantasy_points(data, scoring)\n",
    "print(data[[\"fantasy_points\"]].head())\n"
   ]
  },
  {
   "cell_type": "code",
   "execution_count": 5,
   "id": "e3834c0b",
   "metadata": {},
   "outputs": [
    {
     "name": "stdout",
     "output_type": "stream",
     "text": [
      "Predictions: [14.33421112  3.31939421 10.85334318  7.21176056 12.30745816]\n",
      "Score (R^2): 0.9989385274277018\n"
     ]
    }
   ],
   "source": [
    "\n",
    "# Drop rolling-average columns for windows other than 1 game\n",
    "drop_ravg_other = [col for col in data.columns if 'r_avg_lag_1' in col and 'r_avg_1_lag_1' not in col]\n",
    "if drop_ravg_other:\n",
    "    print('Dropping non-1-window r_avg columns:', drop_ravg_other)\n",
    "    data = data.drop(drop_ravg_other, axis=1)\n",
    "\n",
    "# Drop unwanted columns but keep rolling averages for the 1-game window and season\n",
    "protected = [col for col in data.columns if 'r_avg_1_lag_1' in col or col == 'season']\n",
    "dropCols = [col for col in data.columns if (data[col].dtype == 'object' or 'id' in col or 'name' in col or 'team' in col) and col not in protected]\n",
    "if dropCols:\n",
    "    data = data.drop(dropCols, axis=1)\n",
    "\n",
    "X = data.drop('fantasy_points_r_avg_1_lag_1', axis=1)\n",
    "X = X.fillna(X.mean())\n",
    "y = data['fantasy_points_r_avg_1_lag_1']\n",
    "\n",
    "X_train, X_test, y_train, y_test = train_test_split(X, y, test_size=0.2, random_state=42)\n",
    "\n",
    "scaler = StandardScaler()\n",
    "X_train_scaled = scaler.fit_transform(X_train)\n",
    "X_test_scaled = scaler.transform(X_test)\n",
    "\n",
    "model = LinearRegression()\n",
    "model.fit(X_train_scaled, y_train)\n",
    "\n",
    "preds = model.predict(X_test_scaled)\n",
    "print('Predictions:', preds[:5])\n",
    "print('Score (R^2):', model.score(X_test_scaled, y_test))\n"
   ]
  },
  {
   "cell_type": "code",
   "execution_count": 6,
   "id": "bbee19f4",
   "metadata": {},
   "outputs": [
    {
     "name": "stdout",
     "output_type": "stream",
     "text": [
      "y_test[:5]: [14.3   3.3  10.84  7.2  12.3 ]\n",
      "preds[:5]: [14.33421112  3.31939421 10.85334318  7.21176056 12.30745816]\n",
      "MSE: 0.05168259359909021\n",
      "RMSE: 0.22733806016391142\n"
     ]
    }
   ],
   "source": [
    "\n",
    "print('y_test[:5]:', y_test.values[:5])\n",
    "print('preds[:5]:', preds[:5])\n",
    "residuals = y_test.values - preds\n",
    "print('MSE:', mean_squared_error(y_test, preds))\n",
    "print('RMSE:', np.sqrt(mean_squared_error(y_test, preds)))"
   ]
  },
  {
   "cell_type": "code",
   "execution_count": 7,
   "id": "b939f3e2",
   "metadata": {},
   "outputs": [
    {
     "data": {
      "text/plain": [
       "Text(0.5, 1.0, 'Actual vs Predicted')"
      ]
     },
     "execution_count": 7,
     "metadata": {},
     "output_type": "execute_result"
    },
    {
     "data": {
      "image/png": "[encoded data removed]",
      "text/plain": [
       "<Figure size 640x480 with 1 Axes>"
      ]
     },
     "metadata": {},
     "output_type": "display_data"
    }
   ],
   "source": [
    "\n",
    "plt.scatter(y_test, preds, alpha=0.6)\n",
    "plt.plot([y_test.min(), y_test.max()], [y_test.min(), y_test.max()], 'r--')  # perfect line\n",
    "plt.xlabel('Actual'); plt.ylabel('Predicted'); plt.title('Actual vs Predicted')"
   ]
  },
  {
   "cell_type": "code",
   "execution_count": 8,
   "id": "775e118f",
   "metadata": {},
   "outputs": [
    {
     "name": "stdout",
     "output_type": "stream",
     "text": [
      "Top correlations with target:\n",
      " fantasy_points_r_avg_3_lag_1     0.836273\n",
      "fantasy_points_r_avg_5_lag_1     0.802707\n",
      "fantasy_points_r_avg_8_lag_1     0.787414\n",
      "passing_tds_r_avg_1_lag_1        0.543786\n",
      "passing_yards_r_avg_1_lag_1      0.522655\n",
      "passing_tds_r_avg_3_lag_1        0.507132\n",
      "passing_tds_r_avg_5_lag_1        0.500977\n",
      "passing_tds_r_avg_8_lag_1        0.497874\n",
      "passing_yards_r_avg_3_lag_1      0.495352\n",
      "passing_yards_r_avg_5_lag_1      0.490064\n",
      "passing_yards_r_avg_8_lag_1      0.488034\n",
      "rushing_yards_r_avg_1_lag_1      0.459995\n",
      "rushing_tds_r_avg_1_lag_1        0.459498\n",
      "receiving_tds_r_avg_1_lag_1      0.449430\n",
      "receiving_yards_r_avg_1_lag_1    0.413579\n",
      "rushing_tds_r_avg_3_lag_1        0.405647\n",
      "rushing_yards_r_avg_3_lag_1      0.400385\n",
      "rushing_tds_r_avg_5_lag_1        0.395720\n",
      "rushing_tds_r_avg_8_lag_1        0.391896\n",
      "rushing_yards_r_avg_5_lag_1      0.386461\n",
      "dtype: float64\n"
     ]
    }
   ],
   "source": [
    "\n",
    "corrs = X_train.apply(lambda c: c.astype(float).corr(y_train) if c.dtype!='object' else 0)\n",
    "corrs = corrs.abs().sort_values(ascending=False)\n",
    "print('Top correlations with target:\\n', corrs.head(20))\n",
    "\n",
    "for col in X_train.columns:\n",
    "    if (X_train[col].astype(str).sample(100, random_state=1).values == y_train.astype(str).sample(100, random_state=1).values).all():\n",
    "        print('Possible exact match column:', col)\n"
   ]
  }
 ],
 "metadata": {
  "kernelspec": {
   "display_name": "Python 3",
   "language": "python",
   "name": "python3"
  },
  "language_info": {
   "codemirror_mode": {
    "name": "ipython",
    "version": 3
   },
   "file_extension": ".py",
   "mimetype": "text/x-python",
   "name": "python",
   "nbconvert_exporter": "python",
   "pygments_lexer": "ipython3",
   "version": "3.12.9"
  }
 },
 "nbformat": 4,
 "nbformat_minor": 5
}
